{
  "nbformat": 4,
  "nbformat_minor": 0,
  "metadata": {
    "colab": {
      "provenance": []
    },
    "kernelspec": {
      "name": "python3",
      "display_name": "Python 3"
    },
    "language_info": {
      "name": "python"
    }
  },
  "cells": [
    {
      "cell_type": "code",
      "source": [
        "!pip install pyscf qiskit qiskit_ibm_runtime qiskit-addon-sqd ffsim -q\n"
      ],
      "metadata": {
        "id": "Bk9RyhnROiPa",
        "colab": {
          "base_uri": "https://localhost:8080/"
        },
        "outputId": "064c41c3-9b30-44f2-bb4a-47a5c48d9209"
      },
      "execution_count": 1,
      "outputs": [
        {
          "output_type": "stream",
          "name": "stdout",
          "text": [
            "\u001b[2K   \u001b[90m━━━━━━━━━━━━━━━━━━━━━━━━━━━━━━━━━━━━━━━━\u001b[0m \u001b[32m51.2/51.2 MB\u001b[0m \u001b[31m7.0 MB/s\u001b[0m eta \u001b[36m0:00:00\u001b[0m\n",
            "\u001b[2K   \u001b[90m━━━━━━━━━━━━━━━━━━━━━━━━━━━━━━━━━━━━━━━━\u001b[0m \u001b[32m8.0/8.0 MB\u001b[0m \u001b[31m10.8 MB/s\u001b[0m eta \u001b[36m0:00:00\u001b[0m\n",
            "\u001b[2K   \u001b[90m━━━━━━━━━━━━━━━━━━━━━━━━━━━━━━━━━━━━━━━━\u001b[0m \u001b[32m1.4/1.4 MB\u001b[0m \u001b[31m10.5 MB/s\u001b[0m eta \u001b[36m0:00:00\u001b[0m\n",
            "\u001b[2K   \u001b[90m━━━━━━━━━━━━━━━━━━━━━━━━━━━━━━━━━━━━━━━━\u001b[0m \u001b[32m12.6/12.6 MB\u001b[0m \u001b[31m11.1 MB/s\u001b[0m eta \u001b[36m0:00:00\u001b[0m\n",
            "\u001b[2K   \u001b[90m━━━━━━━━━━━━━━━━━━━━━━━━━━━━━━━━━━━━━━━━\u001b[0m \u001b[32m366.7/366.7 kB\u001b[0m \u001b[31m9.3 MB/s\u001b[0m eta \u001b[36m0:00:00\u001b[0m\n",
            "\u001b[2K   \u001b[90m━━━━━━━━━━━━━━━━━━━━━━━━━━━━━━━━━━━━━━━━\u001b[0m \u001b[32m2.2/2.2 MB\u001b[0m \u001b[31m12.1 MB/s\u001b[0m eta \u001b[36m0:00:00\u001b[0m\n",
            "\u001b[2K   \u001b[90m━━━━━━━━━━━━━━━━━━━━━━━━━━━━━━━━━━━━━━━━\u001b[0m \u001b[32m49.5/49.5 kB\u001b[0m \u001b[31m4.4 MB/s\u001b[0m eta \u001b[36m0:00:00\u001b[0m\n",
            "\u001b[2K   \u001b[90m━━━━━━━━━━━━━━━━━━━━━━━━━━━━━━━━━━━━━━━━\u001b[0m \u001b[32m75.8/75.8 kB\u001b[0m \u001b[31m5.6 MB/s\u001b[0m eta \u001b[36m0:00:00\u001b[0m\n",
            "\u001b[2K   \u001b[90m━━━━━━━━━━━━━━━━━━━━━━━━━━━━━━━━━━━━━━━━\u001b[0m \u001b[32m130.2/130.2 kB\u001b[0m \u001b[31m8.5 MB/s\u001b[0m eta \u001b[36m0:00:00\u001b[0m\n",
            "\u001b[?25h"
          ]
        }
      ]
    },
    {
      "cell_type": "code",
      "execution_count": 2,
      "metadata": {
        "id": "03deyJ0GFnX0"
      },
      "outputs": [],
      "source": [
        "import pyscf\n",
        "import pyscf.cc\n",
        "import pyscf.mcscf\n",
        "import ffsim\n",
        "import numpy as np\n",
        "import matplotlib.pyplot as plt\n",
        "import pickle\n",
        "from typing import Sequence\n",
        "\n",
        "import rustworkx\n",
        "from qiskit.providers import BackendV2\n",
        "from rustworkx import NoEdgeBetweenNodes, PyGraph\n",
        "\n",
        "from qiskit import QuantumCircuit, QuantumRegister\n",
        "from qiskit.transpiler.preset_passmanagers import generate_preset_pass_manager\n",
        "\n",
        "from qiskit_ibm_runtime import QiskitRuntimeService\n",
        "from qiskit_ibm_runtime import SamplerV2 as Sampler"
      ]
    },
    {
      "cell_type": "code",
      "source": [
        "# Save your API key to track your progress and have access to the quantum computers\n",
        "\n",
        "your_api_key = \"ykLiHvC3SOFw5r1GB-ozI0YjYr9zD08JEnKlpT9YgI6G\"\n",
        "your_crn = \"crn:v1:bluemix:public:quantum-computing:us-east:a/35f051d9a857434d90fa642e973c7520:884336a7-237f-4cfe-af9f-e05bbaf092cf::\"\n",
        "\n",
        "\n",
        "try:\n",
        "  QiskitRuntimeService.save_account(\n",
        "    channel=\"ibm_quantum_platform\",\n",
        "    token=your_api_key,\n",
        "    instance=your_crn,\n",
        "    name=\"luke\",\n",
        "  )\n",
        "except:\n",
        "  pass\n",
        "service = QiskitRuntimeService(name=\"luke\")\n",
        "print(service.saved_accounts())\n",
        "\n",
        "service.backends()"
      ],
      "metadata": {
        "colab": {
          "base_uri": "https://localhost:8080/"
        },
        "id": "B8knpAXLIMPn",
        "outputId": "45feaaa8-aee6-432d-8e9e-7b80570d2af5"
      },
      "execution_count": 3,
      "outputs": [
        {
          "output_type": "stream",
          "name": "stderr",
          "text": [
            "management.get:WARNING:2025-09-26 19:26:19,398: Loading saved account: luke\n"
          ]
        },
        {
          "output_type": "stream",
          "name": "stdout",
          "text": [
            "{'luke': {'channel': 'ibm_quantum_platform', 'url': 'https://cloud.ibm.com', 'token': 'ykLiHvC3SOFw5r1GB-ozI0YjYr9zD08JEnKlpT9YgI6G', 'instance': 'crn:v1:bluemix:public:quantum-computing:us-east:a/35f051d9a857434d90fa642e973c7520:884336a7-237f-4cfe-af9f-e05bbaf092cf::', 'verify': True, 'private_endpoint': False}}\n"
          ]
        },
        {
          "output_type": "execute_result",
          "data": {
            "text/plain": [
              "[<IBMBackend('ibm_brisbane')>, <IBMBackend('ibm_torino')>]"
            ]
          },
          "metadata": {},
          "execution_count": 3
        }
      ]
    },
    {
      "cell_type": "code",
      "source": [
        "backend = service.least_busy(\n",
        "    operational=True, simulator=False\n",
        ")\n",
        "\n",
        "print(f\"Using backend {backend.name}\")"
      ],
      "metadata": {
        "colab": {
          "base_uri": "https://localhost:8080/"
        },
        "id": "CRbh1ywPIE8i",
        "outputId": "26760d6f-1ec8-4268-f3cd-739ea40fe6b1"
      },
      "execution_count": 4,
      "outputs": [
        {
          "output_type": "stream",
          "name": "stdout",
          "text": [
            "Using backend ibm_brisbane\n"
          ]
        }
      ]
    },
    {
      "cell_type": "code",
      "source": [
        "# --- add these two tiny helpers near the top (after imports) ---\n",
        "\n",
        "import numpy as np\n",
        "\n",
        "def _bitarray_to_np(meas):\n",
        "    \"\"\"Qiskit BitArray -> (shots, num_bits) uint8. Uses to_numpy() if available; else unpack bytes.\"\"\"\n",
        "    if hasattr(meas, \"to_numpy\"):\n",
        "        arr = meas.to_numpy()\n",
        "        return np.asarray(arr, dtype=np.uint8)\n",
        "    # fallback: unpack packed bytes\n",
        "    nbits = int(meas.num_bits)\n",
        "    raw = np.asarray(getattr(meas, \"_array\"), dtype=np.uint8)  # BitArray stores packed bytes\n",
        "    bits = np.unpackbits(raw, axis=-1, bitorder=\"little\")[..., :nbits]\n",
        "    return bits.astype(np.uint8)\n",
        "\n",
        "def _meas_logical_order(transpiled_circ, bits_klass):\n",
        "    \"\"\"\n",
        "    Reorder measured columns (classical-bit order) -> logical-qubit order (0..N-1).\n",
        "    Uses the transpiled circuit itself: measure ops + .layout._p2v (physical->virtual).\n",
        "    \"\"\"\n",
        "    # 1) classical-index -> physical-qubit index from measure ops\n",
        "    cl2phys = {}\n",
        "    for instr in transpiled_circ.data:\n",
        "        if getattr(instr.operation, \"name\", None) != \"measure\":\n",
        "            continue\n",
        "        q = instr.qubits[0]\n",
        "        c = instr.clbits[0]\n",
        "        phys = transpiled_circ.find_bit(q).index\n",
        "        cidx = transpiled_circ.find_bit(c).index\n",
        "        cl2phys[cidx] = phys\n",
        "\n",
        "    nbits = bits_klass.shape[1]\n",
        "    if len(cl2phys) != nbits:\n",
        "        raise ValueError(f\"Expected {nbits} measured bits, got {len(cl2phys)}\")\n",
        "\n",
        "    # 2) physical -> virtual (logical) via layout._p2v; our original circuit used a single register 'q'\n",
        "    layout = getattr(transpiled_circ, \"layout\", None)\n",
        "    p2v = getattr(layout, \"_p2v\", None)\n",
        "    if p2v is None:\n",
        "        raise RuntimeError(\"Transpiled circuit has no layout._p2v; cannot build permutation.\")\n",
        "\n",
        "    # Build inverse index: inv[j] = classical column to read for logical qubit j\n",
        "    inv = np.empty(nbits, dtype=int)\n",
        "    for cidx in range(nbits):\n",
        "        phys = cl2phys[cidx]\n",
        "        vq = p2v[phys]                 # VirtualQubit\n",
        "        logical_idx = vq.index         # since original circuit used QuantumRegister('q', 2*norb)\n",
        "        inv[logical_idx] = cidx\n",
        "\n",
        "    # Reorder columns into logical-qubit order\n",
        "    return bits_klass[:, inv]\n"
      ],
      "metadata": {
        "id": "fjGOYtXpe2iQ"
      },
      "execution_count": 5,
      "outputs": []
    },
    {
      "cell_type": "code",
      "source": [
        "BASIS = \"cc-pvdz\"\n",
        "\n",
        "# Approx geometries (Å): good enough for profiling\n",
        "GEOMS = {\n",
        "    \"H2\":  [(\"H\",(0.0,0.0,0.0)), (\"H\",(0.74,0.0,0.0))],\n",
        "    \"H2O\": [(\"O\",(0.0,0.0,0.0)), (\"H\",(0.9572,0.0,0.0)), (\"H\",(-0.2390,0.9270,0.0))],  # ~104.5°\n",
        "    \"LiOH\":[(\"Li\",(0.0,0.0,0.0)), (\"O\",(1.73,0.0,0.0)), (\"H\",(2.69,0.0,0.0))],        # linear approx\n",
        "    \"CO\":  [(\"C\",(0.0,0.0,0.0)), (\"O\",(1.128,0.0,0.0))],\n",
        "    \"N2\":  [(\"N\",(0.0,0.0,0.0)), (\"N\",(1.10,0.0,0.0))],\n",
        "}\n",
        "\n",
        "# Freeze one core 1s *spatial* orbital per heavy atom (H:0, Li/C/N/O:1)\n",
        "CORE_PER_ATOM = {\"H\":0, \"Li\":1, \"C\":1, \"N\":1, \"O\":1}\n",
        "\n",
        "def n_frozen_from_geom(atom_list):\n",
        "    return sum(CORE_PER_ATOM.get(sym, 0) for sym, _ in atom_list)\n",
        "\n",
        "def build_case(name, basis=BASIS):\n",
        "    atoms = GEOMS[name]\n",
        "    spin = 0  # all closed-shell singlets here\n",
        "    mol = pyscf.gto.Mole()\n",
        "    mol.build(atom=atoms, basis=basis, spin=spin, unit=\"Angstrom\", symmetry=False)\n",
        "\n",
        "    # RHF (closed-shell)\n",
        "    scf = pyscf.scf.RHF(mol).run()\n",
        "\n",
        "    # Active space: freeze obvious 1s cores\n",
        "    n_frozen = n_frozen_from_geom(atoms)\n",
        "    active_space = range(n_frozen, mol.nao_nr())\n",
        "    norb = len(active_space)\n",
        "\n",
        "    # Electrons in the active block\n",
        "    nelec_tot = int(sum(scf.mo_occ[active_space]))\n",
        "    na = (nelec_tot + mol.spin)//2\n",
        "    nb = (nelec_tot - mol.spin)//2\n",
        "\n",
        "    # CASCI integrals in the active block\n",
        "    cas = pyscf.mcscf.CASCI(scf, norb, (na, nb))\n",
        "    mo = cas.sort_mo(active_space, base=0)\n",
        "    h1, e_nuc = cas.get_h1cas(mo)\n",
        "    # eri in physicist's notation, 4-index in active MO\n",
        "    eri = pyscf.ao2mo.restore(1, cas.get_h2cas(mo), norb)\n",
        "\n",
        "    return {\n",
        "        \"name\": name,\n",
        "        \"h1\": h1,                      # (norb, norb)\n",
        "        \"eri\": eri,                    # (norb, norb, norb, norb) in 4-fold\n",
        "        \"e_nuc\": e_nuc,                # scalar nuclear repulsion\n",
        "        \"norb\": norb,\n",
        "        \"nelec\": (na, nb),\n",
        "        \"n_frozen\": n_frozen,\n",
        "        \"geom\": atoms,\n",
        "        \"basis\": basis,\n",
        "        \"scf\": scf,\n",
        "        \"cas\": cas,\n",
        "        \"active_space\": active_space,\n",
        "    }\n",
        "\n",
        "def build_all(names=(\"H2\",\"H2O\",\"LiOH\",\"CO\",\"N2\")):\n",
        "    return {n: build_case(n) for n in names}"
      ],
      "metadata": {
        "id": "dzr_r_iuF8bs"
      },
      "execution_count": 6,
      "outputs": []
    },
    {
      "cell_type": "code",
      "source": [
        "all_mols = build_all()"
      ],
      "metadata": {
        "colab": {
          "base_uri": "https://localhost:8080/"
        },
        "id": "YkcumBWUF9cW",
        "outputId": "c3680078-de5a-47c2-b5ec-50a062ca34ea"
      },
      "execution_count": 7,
      "outputs": [
        {
          "output_type": "stream",
          "name": "stdout",
          "text": [
            "converged SCF energy = -1.12870009355644\n",
            "converged SCF energy = -76.0267969728364\n",
            "converged SCF energy = -82.9149376749489\n",
            "converged SCF energy = -112.749311329757\n",
            "converged SCF energy = -108.953796240891\n"
          ]
        }
      ]
    },
    {
      "cell_type": "code",
      "source": [
        "for mol in all_mols.keys():\n",
        "  # Get CCSD t2 amplitudes for initializing the ansatz\n",
        "  ccsd = pyscf.cc.CCSD(\n",
        "      all_mols[mol]['scf'], frozen=[i for i in range(all_mols[mol]['scf'].mol.nao_nr()) if i not in all_mols[mol]['active_space']]\n",
        "  ).run()\n",
        "  all_mols[mol]['ccsd'] = ccsd\n",
        "  t1 = ccsd.t1\n",
        "  all_mols[mol]['t1'] = t1\n",
        "  t2 = ccsd.t2\n",
        "  all_mols[mol]['t2'] = t2\n",
        "  n_reps = 1\n",
        "  num_orbitals = all_mols[mol]['norb']\n",
        "  num_elec_a = all_mols[mol]['nelec'][0]\n",
        "  num_elec_b = all_mols[mol]['nelec'][1]\n",
        "  alpha_alpha_indices = [(p, p + 1) for p in range(num_orbitals - 1)]\n",
        "  all_mols[mol]['alpha_alpha_indices'] = alpha_alpha_indices\n",
        "  alpha_beta_indices = [(p, p) for p in range(0, num_orbitals, 4)]\n",
        "  all_mols[mol]['alpha_beta_indices'] = alpha_beta_indices\n",
        "\n",
        "\n",
        "  ucj_op = ffsim.UCJOpSpinBalanced.from_t_amplitudes(\n",
        "      t2=t2,\n",
        "      t1=t1,\n",
        "      n_reps=n_reps,\n",
        "      interaction_pairs=(alpha_alpha_indices, alpha_beta_indices),\n",
        "      # Setting optimize=True enables the \"compressed\" factorization\n",
        "      optimize=True,\n",
        "      # Limit the number of optimization iterations to prevent the code cell from running\n",
        "      # too long. Removing this line may improve results.\n",
        "      options=dict(maxiter=1000),\n",
        "  )\n",
        "  all_mols[mol]['ucj_op'] = ucj_op\n",
        "\n",
        "  nelec = (num_elec_a, num_elec_b)\n",
        "\n",
        "  # create an empty quantum circuit\n",
        "  qubits = QuantumRegister(2 * num_orbitals, name=\"q\")\n",
        "  all_mols[mol]['qubits'] = qubits\n",
        "  circuit = QuantumCircuit(qubits)\n",
        "\n",
        "  # prepare Hartree-Fock state as the reference state and append it to the quantum circuit\n",
        "  circuit.append(ffsim.qiskit.PrepareHartreeFockJW(num_orbitals, nelec), qubits)\n",
        "\n",
        "  # apply the UCJ operator to the reference state\n",
        "  circuit.append(ffsim.qiskit.UCJOpSpinBalancedJW(ucj_op), qubits)\n",
        "  circuit.measure_all()\n",
        "  all_mols[mol]['circuit'] = circuit"
      ],
      "metadata": {
        "colab": {
          "base_uri": "https://localhost:8080/"
        },
        "id": "xEJgXMbOGBCE",
        "outputId": "bd8db5b4-c353-4373-caac-5f80139e0dc1"
      },
      "execution_count": 8,
      "outputs": [
        {
          "output_type": "stream",
          "name": "stdout",
          "text": [
            "E(CCSD) = -1.163374496404818  E_corr = -0.03467440284837669\n",
            "E(CCSD) = -76.23799454061152  E_corr = -0.2111975677751045\n",
            "E(CCSD) = -83.13001281450188  E_corr = -0.2150751395529544\n",
            "E(CCSD) = -113.0437198131344  E_corr = -0.2944084833774329\n",
            "E(CCSD) = -109.2635773150511  E_corr = -0.3097810741601993\n"
          ]
        }
      ]
    },
    {
      "cell_type": "code",
      "source": [
        "IBM_TWO_Q_GATES = {\"cx\", \"ecr\", \"cz\"}\n",
        "\n",
        "def create_linear_chains(num_orbitals: int) -> PyGraph:\n",
        "    \"\"\"In zig-zag layout, there are two linear chains (with connecting qubits between\n",
        "    the chains). This function creates those two linear chains: a rustworkx PyGraph\n",
        "    with two disconnected linear chains. Each chain contains `num_orbitals` number\n",
        "    of nodes, that is, in the final graph there are `2 * num_orbitals` number of nodes.\n",
        "\n",
        "    Args:\n",
        "        num_orbitals (int): Number orbitals or nodes in each linear chain. They are\n",
        "            also known as alpha-alpha interaction qubits.\n",
        "\n",
        "    Returns:\n",
        "        A rustworkx.PyGraph with two disconnected linear chains each with `num_orbitals`\n",
        "            number of nodes.\n",
        "    \"\"\"\n",
        "    G = rustworkx.PyGraph()\n",
        "\n",
        "    for n in range(num_orbitals):\n",
        "        G.add_node(n)\n",
        "\n",
        "    for n in range(num_orbitals - 1):\n",
        "        G.add_edge(n, n + 1, None)\n",
        "\n",
        "    for n in range(num_orbitals, 2 * num_orbitals):\n",
        "        G.add_node(n)\n",
        "\n",
        "    for n in range(num_orbitals, 2 * num_orbitals - 1):\n",
        "        G.add_edge(n, n + 1, None)\n",
        "\n",
        "    return G\n",
        "\n",
        "\n",
        "def create_lucj_zigzag_layout(\n",
        "    num_orbitals: int, backend_coupling_graph: PyGraph\n",
        ") -> tuple[PyGraph, int]:\n",
        "    \"\"\"This function creates the complete zigzag graph that 'can be mapped' to an IBM QPU with\n",
        "    heavy-hex connectivity (the zigzag must be an isomorphic sub-graph to the QPU/backend\n",
        "    coupling graph for it to be mapped).\n",
        "    The zigzag pattern includes both linear chains (alpha-alpha interactions) and connecting\n",
        "    qubits between the linear chains (alpha-beta interactions).\n",
        "\n",
        "    Args:\n",
        "        num_orbitals (int): Number of orbitals, that is, number of nodes in each alpha-alpha linear chain.\n",
        "        backend_coupling_graph (PyGraph): The coupling graph of the backend on which the LUCJ ansatz\n",
        "            will be mapped and run. This function takes the coupling graph as a undirected\n",
        "            `rustworkx.PyGraph` where there is only one 'undirected' edge between two nodes,\n",
        "            that is, qubits. Usually, the coupling graph of a IBM backend is directed (for example, Eagle devices\n",
        "            such as ibm_brisbane) or may have two edges between two nodes (for example, Heron `ibm_torino`).\n",
        "            A user needs to be make such graphs undirected and/or remove duplicate edges to make them\n",
        "            compatible with this function.\n",
        "\n",
        "    Returns:\n",
        "        G_new (PyGraph): The graph with IBM backend compliant zigzag pattern.\n",
        "        num_alpha_beta_qubits (int): Number of connecting qubits between the linear chains\n",
        "            in the zigzag pattern. While we want as many connecting (alpha-beta) qubits between\n",
        "            the linear (alpha-alpha) chains, we cannot accommodate all due to qubit and connectivity\n",
        "            constraints of backends. This is the maximum number of connecting qubits the zigzag pattern\n",
        "            can have while being backend compliant (that is, isomorphic to backend coupling graph).\n",
        "    \"\"\"\n",
        "    isomorphic = False\n",
        "    G = create_linear_chains(num_orbitals=num_orbitals)\n",
        "\n",
        "    num_iters = num_orbitals\n",
        "    while not isomorphic:\n",
        "        G_new = G.copy()\n",
        "        num_alpha_beta_qubits = 0\n",
        "        for n in range(num_iters):\n",
        "            if n % 4 == 0:\n",
        "                new_node = 2 * num_orbitals + num_alpha_beta_qubits\n",
        "                G_new.add_node(new_node)\n",
        "                G_new.add_edge(n, new_node, None)\n",
        "                G_new.add_edge(new_node, n + num_orbitals, None)\n",
        "                num_alpha_beta_qubits = num_alpha_beta_qubits + 1\n",
        "        isomorphic = rustworkx.is_subgraph_isomorphic(\n",
        "            backend_coupling_graph, G_new\n",
        "        )\n",
        "        num_iters -= 1\n",
        "\n",
        "    return G_new, num_alpha_beta_qubits\n",
        "\n",
        "\n",
        "def lightweight_layout_error_scoring(\n",
        "    backend: BackendV2,\n",
        "    virtual_edges: Sequence[Sequence[int]],\n",
        "    physical_layouts: Sequence[int],\n",
        "    two_q_gate_name: str,\n",
        ") -> list[list[list[int], float]]:\n",
        "    \"\"\"Lightweight and heuristic function to score isomorphic layouts. There can be many zigzag patterns,\n",
        "    each with different set of physical qubits, that can be mapped to a backend. Some of them may\n",
        "    include less noise qubits and couplings than others. This function computes a simple error score\n",
        "    for each such layout. It sums up 2Q gate error for all couplings in the zigzag pattern (layout) and\n",
        "    measurement of errors of physical qubits in the layout to compute the error score.\n",
        "\n",
        "    Note:\n",
        "        This lightweight scoring can be refined using concepts such as mapomatic.\n",
        "\n",
        "    Args:\n",
        "        backend (BackendV2): A backend.\n",
        "        virtual_edges (Sequence[Sequence[int]]): Edges in the device compliant zigzag pattern where\n",
        "            nodes are numbered from 0 to (2 * num_orbitals + num_alpha_beta_qubits).\n",
        "        physical_layouts (Sequence[int]): All physical layouts of the zigzag pattern that are isomorphic\n",
        "            to each other and to the larger backend coupling map.\n",
        "        two_q_gate_name (str): The name of the two-qubit gate of the backend. The name is used for fetching\n",
        "            two-qubit gate error from backend properties.\n",
        "\n",
        "    Returns:\n",
        "        scores (list): A list of lists where each sublist contains two items. First item is the layout, and\n",
        "            second item is a float representing error score of the layout. The layouts in the `scores` are\n",
        "            sorted in the ascending order of error score.\n",
        "    \"\"\"\n",
        "    props = backend.properties()\n",
        "    scores = []\n",
        "    for layout in physical_layouts:\n",
        "        total_2q_error = 0\n",
        "        for edge in virtual_edges:\n",
        "            physical_edge = (layout[edge[0]], layout[edge[1]])\n",
        "            try:\n",
        "                ge = props.gate_error(two_q_gate_name, physical_edge)\n",
        "            except Exception:\n",
        "                ge = props.gate_error(two_q_gate_name, physical_edge[::-1])\n",
        "            total_2q_error += ge\n",
        "        total_measurement_error = 0\n",
        "        for qubit in layout:\n",
        "            meas_error = props.readout_error(qubit)\n",
        "            total_measurement_error += meas_error\n",
        "        scores.append([layout, total_2q_error + total_measurement_error])\n",
        "\n",
        "    return sorted(scores, key=lambda x: x[1])\n",
        "\n",
        "\n",
        "def _make_backend_cmap_pygraph(backend: BackendV2) -> PyGraph:\n",
        "    graph = backend.coupling_map.graph\n",
        "    if not graph.is_symmetric():\n",
        "        graph.make_symmetric()\n",
        "    backend_coupling_graph = graph.to_undirected()\n",
        "\n",
        "    edge_list = backend_coupling_graph.edge_list()\n",
        "    removed_edge = []\n",
        "    for edge in edge_list:\n",
        "        if set(edge) in removed_edge:\n",
        "            continue\n",
        "        try:\n",
        "            backend_coupling_graph.remove_edge(edge[0], edge[1])\n",
        "            removed_edge.append(set(edge))\n",
        "        except NoEdgeBetweenNodes:\n",
        "            pass\n",
        "\n",
        "    return backend_coupling_graph\n",
        "\n",
        "\n",
        "def get_zigzag_physical_layout(\n",
        "    num_orbitals: int, backend: BackendV2, score_layouts: bool = True\n",
        ") -> tuple[list[int], int]:\n",
        "    \"\"\"The main function that generates the zigzag pattern with physical qubits that can be used\n",
        "    as an `intial_layout` in a preset passmanager/transpiler.\n",
        "\n",
        "    Args:\n",
        "        num_orbitals (int): Number of orbitals.\n",
        "        backend (BackendV2): A backend.\n",
        "        score_layouts (bool): Optional. If `True`, it uses the `lightweight_layout_error_scoring`\n",
        "            function to score the isomorphic layouts and returns the layout with less erroneous qubits.\n",
        "            If `False`, returns the first isomorphic subgraph.\n",
        "\n",
        "    Returns:\n",
        "        A tuple of device compliant layout (list[int]) with zigzag pattern and an int representing\n",
        "            number of alpha-beta-interactions.\n",
        "    \"\"\"\n",
        "    backend_coupling_graph = _make_backend_cmap_pygraph(backend=backend)\n",
        "\n",
        "    G, num_alpha_beta_qubits = create_lucj_zigzag_layout(\n",
        "        num_orbitals=num_orbitals,\n",
        "        backend_coupling_graph=backend_coupling_graph,\n",
        "    )\n",
        "\n",
        "    isomorphic_mappings = rustworkx.vf2_mapping(\n",
        "        backend_coupling_graph, G, subgraph=True\n",
        "    )\n",
        "    isomorphic_mappings = list(isomorphic_mappings)\n",
        "\n",
        "    edges = list(G.edge_list())\n",
        "\n",
        "    layouts = []\n",
        "    for mapping in isomorphic_mappings:\n",
        "        initial_layout = [None] * (2 * num_orbitals + num_alpha_beta_qubits)\n",
        "        for key, value in mapping.items():\n",
        "            initial_layout[value] = key\n",
        "        layouts.append(initial_layout)\n",
        "\n",
        "    two_q_gate_name = IBM_TWO_Q_GATES.intersection(\n",
        "        backend.configuration().basis_gates\n",
        "    ).pop()\n",
        "\n",
        "    if score_layouts:\n",
        "        scores = lightweight_layout_error_scoring(\n",
        "            backend=backend,\n",
        "            virtual_edges=edges,\n",
        "            physical_layouts=layouts,\n",
        "            two_q_gate_name=two_q_gate_name,\n",
        "        )\n",
        "\n",
        "        return scores[0][0][:-num_alpha_beta_qubits], num_alpha_beta_qubits\n",
        "\n",
        "    return layouts[0][:-num_alpha_beta_qubits], num_alpha_beta_qubits"
      ],
      "metadata": {
        "id": "DP-oGf95H_Zi"
      },
      "execution_count": 9,
      "outputs": []
    },
    {
      "cell_type": "code",
      "source": [
        "for mol in all_mols.keys():\n",
        "  print(mol)\n",
        "  initial_layout, _ = get_zigzag_physical_layout(all_mols[mol]['norb'], backend=backend)\n",
        "\n",
        "  pass_manager = generate_preset_pass_manager(\n",
        "      optimization_level=3, backend=backend, initial_layout=initial_layout\n",
        "  )\n",
        "\n",
        "  # without PRE_INIT passes\n",
        "  isa_circuit = pass_manager.run(all_mols[mol]['circuit'])\n",
        "  print(f\"Gate counts (w/o pre-init passes): {isa_circuit.count_ops()}\")\n",
        "\n",
        "  # with PRE_INIT passes\n",
        "  # We will use the circuit generated by this pass manager for hardware execution\n",
        "  pass_manager.pre_init = ffsim.qiskit.PRE_INIT\n",
        "  isa_circuit = pass_manager.run(all_mols[mol]['circuit'])\n",
        "  all_mols[mol]['isa_circuit'] = isa_circuit\n",
        "  print(f\"Gate counts (w/ pre-init passes): {isa_circuit.count_ops()}\")"
      ],
      "metadata": {
        "colab": {
          "base_uri": "https://localhost:8080/"
        },
        "id": "38qa8zs7OXZA",
        "outputId": "4390209a-fda2-4a69-d21a-f1579fc886bf"
      },
      "execution_count": 10,
      "outputs": [
        {
          "output_type": "stream",
          "name": "stdout",
          "text": [
            "H2\n",
            "Gate counts (w/o pre-init passes): OrderedDict({'rz': 1559, 'sx': 891, 'ecr': 436, 'x': 41, 'measure': 20, 'barrier': 1})\n",
            "Gate counts (w/ pre-init passes): OrderedDict({'rz': 661, 'sx': 407, 'ecr': 180, 'measure': 20, 'x': 11, 'barrier': 1})\n",
            "H2O\n",
            "Gate counts (w/o pre-init passes): OrderedDict({'rz': 10343, 'sx': 9896, 'ecr': 2930, 'x': 66, 'measure': 46, 'barrier': 1})\n",
            "Gate counts (w/ pre-init passes): OrderedDict({'sx': 5334, 'rz': 4978, 'ecr': 1452, 'measure': 46, 'x': 43, 'barrier': 1})\n",
            "LiOH\n",
            "Gate counts (w/o pre-init passes): OrderedDict({'rz': 18916, 'sx': 17995, 'ecr': 5378, 'x': 195, 'measure': 62, 'barrier': 1})\n",
            "Gate counts (w/ pre-init passes): OrderedDict({'sx': 9480, 'rz': 8906, 'ecr': 2644, 'x': 122, 'measure': 62, 'barrier': 1})\n",
            "CO\n",
            "Gate counts (w/o pre-init passes): OrderedDict({'rz': 14267, 'sx': 13182, 'ecr': 4000, 'x': 138, 'measure': 52, 'barrier': 1})\n",
            "Gate counts (w/ pre-init passes): OrderedDict({'sx': 6994, 'rz': 6528, 'ecr': 1896, 'x': 52, 'measure': 52, 'barrier': 1})\n",
            "N2\n",
            "Gate counts (w/o pre-init passes): OrderedDict({'rz': 14178, 'sx': 12945, 'ecr': 4004, 'x': 146, 'measure': 52, 'barrier': 1})\n",
            "Gate counts (w/ pre-init passes): OrderedDict({'sx': 7000, 'rz': 6478, 'ecr': 1896, 'x': 60, 'measure': 52, 'barrier': 1})\n"
          ]
        }
      ]
    },
    {
      "cell_type": "code",
      "source": [
        "all_mols['H2']['qubits']"
      ],
      "metadata": {
        "colab": {
          "base_uri": "https://localhost:8080/"
        },
        "id": "OoTepZtLGOWG",
        "outputId": "06892294-ee20-4cf4-92bc-cdcb5be97294"
      },
      "execution_count": 11,
      "outputs": [
        {
          "output_type": "execute_result",
          "data": {
            "text/plain": [
              "QuantumRegister(20, 'q')"
            ]
          },
          "metadata": {},
          "execution_count": 11
        }
      ]
    },
    {
      "cell_type": "code",
      "source": [
        "# for mol in all_mols.keys():\n",
        "#   print(mol)\n",
        "#   sampler = Sampler(mode=backend)\n",
        "#   job = sampler.run([all_mols[mol]['isa_circuit']], shots=100_000)\n",
        "#   from qiskit.providers.jobstatus import JobStatus\n",
        "#   import time\n",
        "\n",
        "#   while job.status() == 'QUEUED':\n",
        "#     print('still queued')\n",
        "#     time.sleep(30)\n",
        "#   all_mols[mol]['primitive_result'] = job.result()\n",
        "#   all_mols[mol]['pub_result'] = all_mols[mol]['primitive_result'][0]\n",
        "\n",
        "\n",
        "for mol in all_mols.keys():\n",
        "  print(mol)\n",
        "  sampler = Sampler(mode=backend)\n",
        "  job = sampler.run([all_mols[mol]['isa_circuit']], shots=100_000)\n",
        "\n",
        "  from qiskit.providers.jobstatus import JobStatus\n",
        "  import time\n",
        "  while job.status() == 'QUEUED':\n",
        "    print('still queued')\n",
        "    time.sleep(30)\n",
        "\n",
        "  primitive_result = job.result()\n",
        "  pub_result = primitive_result[0]\n",
        "  all_mols[mol]['primitive_result'] = primitive_result\n",
        "  all_mols[mol]['pub_result'] = pub_result\n",
        "\n",
        "  # --- Minimal, Qiskit 2.0–compatible bitstring canonicalization ---\n",
        "  norb = int(all_mols[mol]['norb'])\n",
        "  nbits = 2 * norb\n",
        "\n",
        "  # 1) BitArray -> (shots, nbits) uint8\n",
        "  raw_bits = pub_result.data.meas.to_bool_array(order=\"little\").astype(np.uint8)\n",
        "\n",
        "  if raw_bits.shape[-1] != nbits:\n",
        "      raise ValueError(f\"Expected {nbits} bits, got {raw_bits.shape[-1]}\")\n",
        "\n",
        "  tqc = all_mols[mol]['isa_circuit']\n",
        "\n",
        "  # 2) classical index -> output-qubit position from measure ops\n",
        "  cl2out = {}\n",
        "  for instr in tqc.data:\n",
        "      if getattr(instr.operation, \"name\", None) == \"measure\":\n",
        "          outpos = tqc.find_bit(instr.qubits[0]).index   # position in output circuit\n",
        "          cidx   = tqc.find_bit(instr.clbits[0]).index   # column in BitArray\n",
        "          cl2out[cidx] = outpos\n",
        "  if len(cl2out) != nbits:\n",
        "      raise ValueError(f\"Expected {nbits} measured bits, got {len(cl2out)}\")\n",
        "\n",
        "  # 3) output position -> input (logical) index via final_index_layout()\n",
        "  #    final_index_layout()[j] = output position for input-qubit j  (Qiskit 2.0)\n",
        "  outpos_for_in = tqc.layout.final_index_layout()        # length == nbits\n",
        "  in_for_outpos  = {outpos: j for j, outpos in enumerate(outpos_for_in)}\n",
        "\n",
        "  # 4) Build inverse permutation: new[:, j_logical] = raw[:, inv[j_logical]]\n",
        "  inv = np.empty(nbits, dtype=int)\n",
        "  for cidx, outpos in cl2out.items():\n",
        "      j_logical = in_for_outpos[outpos]\n",
        "      inv[j_logical] = cidx\n",
        "\n",
        "  logical_bits = raw_bits[:, inv]                        # columns now in logical order (0..2*norb-1)\n",
        "\n",
        "  # Save canonical logical-order bitstrings (already α-block then β-block given how you built the circuit)\n",
        "  all_mols[mol]['bitstrings_block_ab'] = logical_bits\n",
        "\n",
        "\n"
      ],
      "metadata": {
        "colab": {
          "base_uri": "https://localhost:8080/"
        },
        "id": "3M5YCCuKUax2",
        "outputId": "7163938e-9860-4095-ad77-05d15d9dcbf6"
      },
      "execution_count": 14,
      "outputs": [
        {
          "output_type": "stream",
          "name": "stdout",
          "text": [
            "H2\n",
            "still queued\n",
            "H2O\n",
            "still queued\n",
            "LiOH\n",
            "still queued\n",
            "CO\n",
            "still queued\n",
            "N2\n",
            "still queued\n"
          ]
        }
      ]
    },
    {
      "cell_type": "code",
      "source": [
        "import pickle\n",
        "pickle.dump(all_mols, open('all_mols.pkl', 'wb'))"
      ],
      "metadata": {
        "id": "MVHlayiwVgxD"
      },
      "execution_count": 15,
      "outputs": []
    },
    {
      "cell_type": "code",
      "source": [],
      "metadata": {
        "id": "VVIXrafFKDKO"
      },
      "execution_count": null,
      "outputs": []
    }
  ]
}